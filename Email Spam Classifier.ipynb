{
 "cells": [
  {
   "cell_type": "code",
   "execution_count": 1,
   "id": "206d5c6f",
   "metadata": {},
   "outputs": [
    {
     "name": "stderr",
     "output_type": "stream",
     "text": [
      "C:\\Users\\sudes\\anaconda3\\lib\\site-packages\\pandas\\core\\computation\\expressions.py:21: UserWarning: Pandas requires version '2.8.4' or newer of 'numexpr' (version '2.8.3' currently installed).\n",
      "  from pandas.core.computation.check import NUMEXPR_INSTALLED\n",
      "C:\\Users\\sudes\\anaconda3\\lib\\site-packages\\pandas\\core\\arrays\\masked.py:60: UserWarning: Pandas requires version '1.3.6' or newer of 'bottleneck' (version '1.3.5' currently installed).\n",
      "  from pandas.core import (\n"
     ]
    }
   ],
   "source": [
    "import numpy as np\n",
    "import pandas as np\n",
    "import pandas as pd\n",
    "from sklearn.model_selection import train_test_split\n",
    "from sklearn.feature_extraction.text import TfidfVectorizer\n",
    "from sklearn.feature_extraction import text\n",
    "from sklearn.linear_model import LogisticRegression\n",
    "from sklearn.metrics import accuracy_score"
   ]
  },
  {
   "cell_type": "code",
   "execution_count": 2,
   "id": "ddad0c1f",
   "metadata": {},
   "outputs": [
    {
     "data": {
      "text/html": [
       "<div>\n",
       "<style scoped>\n",
       "    .dataframe tbody tr th:only-of-type {\n",
       "        vertical-align: middle;\n",
       "    }\n",
       "\n",
       "    .dataframe tbody tr th {\n",
       "        vertical-align: top;\n",
       "    }\n",
       "\n",
       "    .dataframe thead th {\n",
       "        text-align: right;\n",
       "    }\n",
       "</style>\n",
       "<table border=\"1\" class=\"dataframe\">\n",
       "  <thead>\n",
       "    <tr style=\"text-align: right;\">\n",
       "      <th></th>\n",
       "      <th>Category</th>\n",
       "      <th>Message</th>\n",
       "    </tr>\n",
       "  </thead>\n",
       "  <tbody>\n",
       "    <tr>\n",
       "      <th>0</th>\n",
       "      <td>ham</td>\n",
       "      <td>Go until jurong point, crazy.. Available only ...</td>\n",
       "    </tr>\n",
       "    <tr>\n",
       "      <th>1</th>\n",
       "      <td>ham</td>\n",
       "      <td>Ok lar... Joking wif u oni...</td>\n",
       "    </tr>\n",
       "    <tr>\n",
       "      <th>2</th>\n",
       "      <td>spam</td>\n",
       "      <td>Free entry in 2 a wkly comp to win FA Cup fina...</td>\n",
       "    </tr>\n",
       "    <tr>\n",
       "      <th>3</th>\n",
       "      <td>ham</td>\n",
       "      <td>U dun say so early hor... U c already then say...</td>\n",
       "    </tr>\n",
       "    <tr>\n",
       "      <th>4</th>\n",
       "      <td>ham</td>\n",
       "      <td>Nah I don't think he goes to usf, he lives aro...</td>\n",
       "    </tr>\n",
       "  </tbody>\n",
       "</table>\n",
       "</div>"
      ],
      "text/plain": [
       "  Category                                            Message\n",
       "0      ham  Go until jurong point, crazy.. Available only ...\n",
       "1      ham                      Ok lar... Joking wif u oni...\n",
       "2     spam  Free entry in 2 a wkly comp to win FA Cup fina...\n",
       "3      ham  U dun say so early hor... U c already then say...\n",
       "4      ham  Nah I don't think he goes to usf, he lives aro..."
      ]
     },
     "execution_count": 2,
     "metadata": {},
     "output_type": "execute_result"
    }
   ],
   "source": [
    "df = pd.read_csv(\"mail_data.csv\")\n",
    "df.head()"
   ]
  },
  {
   "cell_type": "code",
   "execution_count": 3,
   "id": "3d91552c",
   "metadata": {},
   "outputs": [
    {
     "name": "stdout",
     "output_type": "stream",
     "text": [
      "<class 'pandas.core.frame.DataFrame'>\n",
      "RangeIndex: 5572 entries, 0 to 5571\n",
      "Data columns (total 2 columns):\n",
      " #   Column    Non-Null Count  Dtype \n",
      "---  ------    --------------  ----- \n",
      " 0   Category  5572 non-null   object\n",
      " 1   Message   5572 non-null   object\n",
      "dtypes: object(2)\n",
      "memory usage: 87.2+ KB\n"
     ]
    }
   ],
   "source": [
    "df.info()"
   ]
  },
  {
   "cell_type": "markdown",
   "id": "577f1d00",
   "metadata": {},
   "source": [
    "1. There are total non-Null two columns: \n",
    "\n",
    "    **Category** - It says what type of Category the mail data was (spam or ham).\n",
    "\n",
    "    **Message** - It says what were written on those emails.\n",
    "\n",
    "2. There are total 5572 non-Null records.\n",
    "3. Data type of all data are object.\n",
    "4. It takes more than 87.2 KB memory space.\n",
    "**Note:** \n",
    "\n",
    "**Spam** is a type of unsolicited bulk message sent electronically, usually for advertising purposes. **Ham**, on the other hand, is email that is generally desired and not considered spam"
   ]
  },
  {
   "cell_type": "code",
   "execution_count": 25,
   "id": "513dfcad",
   "metadata": {},
   "outputs": [],
   "source": [
    "df.loc[df['Category'] == 'spam', 'Category', ] = 0\n",
    "df.loc[df['Category'] == 'ham', 'Category', ] = 1"
   ]
  },
  {
   "cell_type": "code",
   "execution_count": 5,
   "id": "862f88e0",
   "metadata": {},
   "outputs": [],
   "source": [
    "x = df['Message']\n",
    "y = df['Category']"
   ]
  },
  {
   "cell_type": "markdown",
   "id": "7a2c0377",
   "metadata": {},
   "source": [
    "### Now we split the data set into testing and training"
   ]
  },
  {
   "cell_type": "code",
   "execution_count": 65,
   "id": "32b3007a",
   "metadata": {},
   "outputs": [],
   "source": [
    "X_train, X_test, Y_train, Y_test = train_test_split(x, y, test_size= 0.3, random_state= 42)"
   ]
  },
  {
   "cell_type": "markdown",
   "id": "be3705cc",
   "metadata": {},
   "source": [
    "'test size = 0.3' means data divied into 70% training data and 30% testing data.\n",
    "\n",
    "Setting random_state to an integer (e.g., random_state=42) acts as a seed for the random number generator used to shuffle the data before splitting it. You can use any integer for random_state. 42 is a popular choice, but any fixed value will work. \n",
    "\n",
    "A seed ensures that the sequence of random numbers generated is the same every time you run the code with the same seed value. This leads to consistent results, which is essential for debugging and comparing different models.\n",
    "\n",
    "When splitting a data set splitting a node in a decision tree or a logistric regression analyzing centroid, is clustering takes place so that why we use randomness"
   ]
  },
  {
   "cell_type": "code",
   "execution_count": 66,
   "id": "47a6791f",
   "metadata": {},
   "outputs": [
    {
     "name": "stdout",
     "output_type": "stream",
     "text": [
      "Total records are  (5572,)\n",
      "Total train data are  (3900,)\n",
      "Total test data are  (1672,)\n"
     ]
    }
   ],
   "source": [
    "print(\"Total records are \", x.shape)\n",
    "print(\"Total train data are \", X_train.shape)\n",
    "print(\"Total test data are \", X_test.shape)"
   ]
  },
  {
   "cell_type": "code",
   "execution_count": 67,
   "id": "05fc4717",
   "metadata": {},
   "outputs": [
    {
     "name": "stdout",
     "output_type": "stream",
     "text": [
      "Total records are  (5572,)\n",
      "Total train data are  (3900,)\n",
      "Total test data are  (1672,)\n"
     ]
    }
   ],
   "source": [
    "print(\"Total records are \", y.shape)\n",
    "print(\"Total train data are \", Y_train.shape)\n",
    "print(\"Total test data are \", Y_test.shape) "
   ]
  },
  {
   "cell_type": "markdown",
   "id": "3d9755ae",
   "metadata": {},
   "source": [
    "### Transform the text data to feature vectors:\n",
    "Now, I will transform the text data to feature vectors that can be as input to logistic regression."
   ]
  },
  {
   "cell_type": "markdown",
   "id": "181f1c5a",
   "metadata": {},
   "source": [
    "##### Feature Extraction:"
   ]
  },
  {
   "cell_type": "code",
   "execution_count": 68,
   "id": "bc681443",
   "metadata": {},
   "outputs": [],
   "source": [
    "# my_words = ['english', 'winner','prize']\n",
    "# my_stop_words = x.ENGLISH_STOP_WORDS.union(my_words)\n"
   ]
  },
  {
   "cell_type": "code",
   "execution_count": 69,
   "id": "fd93d4bc",
   "metadata": {},
   "outputs": [],
   "source": [
    "feature_extraction = TfidfVectorizer(min_df= 1, stop_words= 'english', lowercase= True)\n",
    "\n",
    "X_train_feature_extraction = feature_extraction.fit_transform(X_train)\n",
    "X_test_feature_extraction = feature_extraction.transform(X_test)"
   ]
  },
  {
   "cell_type": "markdown",
   "id": "01280e06",
   "metadata": {},
   "source": [
    "#### Convert Y_test and Y_train values as an integer:\n",
    "I will convert Y_test and Y_train values as an integer. Because there are all values are in the form of an integer data type."
   ]
  },
  {
   "cell_type": "code",
   "execution_count": 70,
   "id": "44414d0f",
   "metadata": {},
   "outputs": [],
   "source": [
    "Y_train = Y_train.astype('int')\n",
    "Y_test = Y_test.astype('int')"
   ]
  },
  {
   "cell_type": "code",
   "execution_count": 71,
   "id": "1549563b",
   "metadata": {},
   "outputs": [
    {
     "name": "stdout",
     "output_type": "stream",
     "text": [
      "Feature accuracy for X_train data (Total:4457) \n",
      "  (0, 2221)\t0.4595576461719437\n",
      "  (0, 6907)\t0.42057032296489166\n",
      "  (0, 260)\t0.3977642008852706\n",
      "  (0, 943)\t0.35285068394560465\n",
      "  (0, 3629)\t0.33392519134134463\n",
      "  (0, 3634)\t0.31674844532481095\n",
      "  (0, 5025)\t0.3425956765507876\n",
      "  (1, 5087)\t0.564752315585174\n",
      "  (1, 4329)\t0.4556948018194525\n",
      "  (1, 6399)\t0.6880385669683886\n",
      "  (2, 5909)\t0.4598907748288949\n",
      "  (2, 1882)\t0.5577039025555312\n",
      "  (2, 5320)\t0.407962240134966\n",
      "  (2, 1557)\t0.5577039025555312\n",
      "  (3, 2032)\t0.5517950786382567\n",
      "  (3, 1762)\t0.4550182724182232\n",
      "  (3, 6157)\t0.39464721758363247\n",
      "  (3, 889)\t0.4179976347325351\n",
      "  (3, 5392)\t0.3975073759914889\n",
      "  (4, 3168)\t0.517613431846439\n",
      "  (4, 5675)\t0.6128580677760653\n",
      "  (4, 2864)\t0.40046755880208973\n",
      "  (4, 6864)\t0.44283976592107693\n",
      "  (5, 6369)\t0.3834923635990344\n",
      "  (5, 5884)\t0.4325022650654002\n",
      "  :\t:\n",
      "  (3895, 6835)\t0.4724310616139888\n",
      "  (3895, 6851)\t0.3960620484148489\n",
      "  (3895, 2277)\t0.4500945571447008\n",
      "  (3895, 2080)\t0.26990881063254835\n",
      "  (3895, 2891)\t0.2286724629283105\n",
      "  (3895, 3085)\t0.26272736081331977\n",
      "  (3896, 5751)\t0.5972785044700903\n",
      "  (3896, 3637)\t0.6034974734888896\n",
      "  (3896, 3758)\t0.5282510649213112\n",
      "  (3897, 5755)\t0.44641749433429984\n",
      "  (3897, 5756)\t0.44641749433429984\n",
      "  (3897, 4851)\t0.4337802935282666\n",
      "  (3897, 2711)\t0.3842002175270242\n",
      "  (3897, 5098)\t0.4071627632103983\n",
      "  (3897, 3048)\t0.3160161001565619\n",
      "  (3898, 3463)\t0.5547403398631443\n",
      "  (3898, 4386)\t0.4976365821891147\n",
      "  (3898, 5481)\t0.5303714519182342\n",
      "  (3898, 6285)\t0.40413748945848094\n",
      "  (3899, 4249)\t0.5341816759004991\n",
      "  (3899, 5723)\t0.46235406855273553\n",
      "  (3899, 6075)\t0.47878508271631537\n",
      "  (3899, 5388)\t0.33110519415437856\n",
      "  (3899, 3492)\t0.24371977835418776\n",
      "  (3899, 2080)\t0.32033344663986374\n"
     ]
    }
   ],
   "source": [
    "print(\"Feature accuracy for X_train data (Total:4457) \")\n",
    "print(X_train_feature_extraction)"
   ]
  },
  {
   "cell_type": "markdown",
   "id": "0884877b",
   "metadata": {},
   "source": [
    "#### Train the model:\n",
    "With the help of Logistic Regression."
   ]
  },
  {
   "attachments": {
    "image.png": {
     "image/png": "[encoded data removed]"
    }
   },
   "cell_type": "markdown",
   "id": "5fc7d4a6",
   "metadata": {},
   "source": [
    "#### What is Logistic Regression?\n",
    "Logistic Regression measures the relationship between the categorical dependent variable and one or more independent variables by estimating probabilities using a logistic function.\n",
    "![image.png](attachment:image.png)\n",
    "The formula mentioned in the above image is known as Logistic function or Sigmoid function and the curve called Sigmoid curve. The Sigmoid function gives an S shaped curve. The output of Sigmoid function tends towards 1 as z → ∞ and tends towards 0 as z → −∞. Hence Sigmoid/logistic function produces the value of dependent variable which will always lie between [0,1] i.e the probability of being in a class."
   ]
  },
  {
   "cell_type": "code",
   "execution_count": 13,
   "id": "67e60048",
   "metadata": {},
   "outputs": [
    {
     "data": {
      "text/plain": [
       "LogisticRegression()"
      ]
     },
     "execution_count": 13,
     "metadata": {},
     "output_type": "execute_result"
    }
   ],
   "source": [
    "# Here I will train the logistic regression model with the train data\n",
    "model = LogisticRegression()\n",
    "model.fit(X_train_feature_extraction, Y_train)"
   ]
  },
  {
   "cell_type": "code",
   "execution_count": 14,
   "id": "790b6bd2",
   "metadata": {},
   "outputs": [
    {
     "name": "stdout",
     "output_type": "stream",
     "text": [
      "Accuracy on training data:  0.9661207089970832\n"
     ]
    }
   ],
   "source": [
    "# Evaluating the training model and prediction of the traininng data\n",
    "prediction_on_training_data = model.predict(X_train_feature_extraction)\n",
    "accuracy_on_training_data = accuracy_score(Y_train, prediction_on_training_data)\n",
    "\n",
    "print('Accuracy on training data: ', accuracy_on_training_data)"
   ]
  },
  {
   "cell_type": "code",
   "execution_count": 15,
   "id": "c881830b",
   "metadata": {},
   "outputs": [
    {
     "name": "stdout",
     "output_type": "stream",
     "text": [
      "accuracy on test data:  0.967713004484305\n"
     ]
    }
   ],
   "source": [
    "# Evaluating the testing data and prediction of the testing data\n",
    "prediction_on_test_data = model.predict(X_test_feature_extraction)\n",
    "accuracy_on_test_data = accuracy_score(Y_test, prediction_on_test_data)\n",
    "\n",
    "print('accuracy on test data: ', accuracy_on_test_data)"
   ]
  },
  {
   "cell_type": "markdown",
   "id": "11ae9261",
   "metadata": {},
   "source": [
    "**Note:** The accuracy on test data is almost same as the training data. So we can say that the model. \n",
    "\n",
    "Almost 97% correct."
   ]
  },
  {
   "cell_type": "markdown",
   "id": "c6fb68f5",
   "metadata": {},
   "source": [
    "#### Now we took an email and check spam or ham: "
   ]
  },
  {
   "cell_type": "code",
   "execution_count": 16,
   "id": "79a75ac9",
   "metadata": {},
   "outputs": [
    {
     "name": "stdout",
     "output_type": "stream",
     "text": [
      "Spam mail\n"
     ]
    }
   ],
   "source": [
    "input_your_mail = ['''\n",
    "This is the 2nd time we have tried to contact u. \n",
    "U have won the 4000 prize. \n",
    "2 claim is easy, just call 014752452226532 NOW! Only 10p per minute. BT-national-rate''']\n",
    "\n",
    "# CONVERT TEXT TO FEATURE VECTORS\n",
    "input_data_features = feature_extraction.transform(input_your_mail)\n",
    "\n",
    "# MAKING PREDICTION\n",
    "prediction = model.predict(input_data_features)\n",
    "if(prediction[0] == 1):\n",
    "    print('Ham mail')\n",
    "else:\n",
    "    print('Spam mail')"
   ]
  },
  {
   "cell_type": "code",
   "execution_count": 17,
   "id": "60c969d9",
   "metadata": {},
   "outputs": [
    {
     "name": "stdout",
     "output_type": "stream",
     "text": [
      "Ham mail\n"
     ]
    }
   ],
   "source": [
    "input_your_mail = ['''Indian Penal Code, CrPC and Indian Evidence Act, which are more than 100 years old laws made by the British Parliament, have now been replaced by Bharatiya Nyaya Sanhita 2023, Bharatiya Nagrik Suraksha Sanhita 2023, Bharatiya Sakshya Adhiniyam 2023. These laws have come into force across the country from July 1, 2024. The concept of Indian justice has been restored by changing the colonial laws.\n",
    "\n",
    "The featured cover story in the latest edition of New India Samachar (1-15 July, 2024) delves into the theme of ‘Citizen First Justice First’, which reflects the ‘New Era of Justice in India’. Special content on the beginning of the 18th Lok Sabha, the election of Lok Sabha Speaker, the President’s address are included in this issue.\n",
    "\n",
    "For easy accessibility, the e-New India Samachar is now available in Hindi, English, and 11 other Indian languages. You can click on the link in your preferred language to explore the latest edition and stay informed about the dynamic developments shaping the nation.''']\n",
    "\n",
    "# CONVERT TEXT TO FEATURE VECTORS\n",
    "input_data_features = feature_extraction.transform(input_your_mail)\n",
    "\n",
    "# MAKING PREDICTION\n",
    "prediction = model.predict(input_data_features)\n",
    "if(prediction[0] == 1):\n",
    "    print('Ham mail')\n",
    "else:\n",
    "    print('Spam mail')"
   ]
  },
  {
   "cell_type": "code",
   "execution_count": 18,
   "id": "7fa0dfde",
   "metadata": {},
   "outputs": [
    {
     "name": "stdout",
     "output_type": "stream",
     "text": [
      "Ham mail\n"
     ]
    }
   ],
   "source": [
    "input_your_mail = ['Russia’s top honour for PM Modi & vibrant Moscow community event – Read in the newsletter! ']\n",
    "\n",
    "# CONVERT TEXT TO FEATURE VECTORS\n",
    "input_data_features = feature_extraction.transform(input_your_mail)\n",
    "\n",
    "# MAKING PREDICTION\n",
    "prediction = model.predict(input_data_features)\n",
    "if(prediction[0] == 1):\n",
    "    print('Ham mail')\n",
    "else:\n",
    "    print('Spam mail')"
   ]
  },
  {
   "cell_type": "code",
   "execution_count": 19,
   "id": "adeb6daa",
   "metadata": {},
   "outputs": [
    {
     "name": "stdout",
     "output_type": "stream",
     "text": [
      "Ham mail\n"
     ]
    }
   ],
   "source": [
    "input_your_mail = ['Join LIVE for Mann Ki Baat, on 28th July at 11 AM']\n",
    "\n",
    "# CONVERT TEXT TO FEATURE VECTORS\n",
    "input_data_features = feature_extraction.transform(input_your_mail)\n",
    "\n",
    "# MAKING PREDICTION\n",
    "prediction = model.predict(input_data_features)\n",
    "if(prediction[0] == 1):\n",
    "    print('Ham mail')\n",
    "else:\n",
    "    print('Spam mail')"
   ]
  },
  {
   "cell_type": "code",
   "execution_count": 20,
   "id": "4bfb0ba6",
   "metadata": {},
   "outputs": [
    {
     "name": "stdout",
     "output_type": "stream",
     "text": [
      "Ham mail\n"
     ]
    }
   ],
   "source": [
    "input_your_mail = ['BPR&D द्वारा प्रकाशित द्विभाषी पाक्षिक पत्रिका ‘सजग भारत’ एवं ‘Vigilant India’ ']\n",
    "\n",
    "# CONVERT TEXT TO FEATURE VECTORS\n",
    "input_data_features = feature_extraction.transform(input_your_mail)\n",
    "\n",
    "# MAKING PREDICTION\n",
    "prediction = model.predict(input_data_features)\n",
    "if(prediction[0] == 1):\n",
    "    print('Ham mail')\n",
    "else:\n",
    "    print('Spam mail')"
   ]
  },
  {
   "cell_type": "code",
   "execution_count": 21,
   "id": "e3227d0e",
   "metadata": {},
   "outputs": [
    {
     "name": "stdout",
     "output_type": "stream",
     "text": [
      "Ham mail\n"
     ]
    }
   ],
   "source": [
    "input_your_mail = ['Here are the highlights from Mann Ki Baat Episode of June 2024']\n",
    "\n",
    "# CONVERT TEXT TO FEATURE VECTORS\n",
    "input_data_features = feature_extraction.transform(input_your_mail)\n",
    "\n",
    "# MAKING PREDICTION\n",
    "prediction = model.predict(input_data_features)\n",
    "if(prediction[0] == 1):\n",
    "    print('Ham mail')\n",
    "else:\n",
    "    print('Spam mail')"
   ]
  },
  {
   "cell_type": "code",
   "execution_count": 22,
   "id": "d514e86c",
   "metadata": {},
   "outputs": [
    {
     "name": "stdout",
     "output_type": "stream",
     "text": [
      "Ham mail\n"
     ]
    }
   ],
   "source": [
    "input_your_mail = ['SBI Life\\'s Service touch points']\n",
    "\n",
    "# CONVERT TEXT TO FEATURE VECTORS\n",
    "input_data_features = feature_extraction.transform(input_your_mail)\n",
    "\n",
    "# MAKING PREDICTION\n",
    "prediction = model.predict(input_data_features)\n",
    "if(prediction[0] == 1):\n",
    "    print('Ham mail')\n",
    "else:\n",
    "    print('Spam mail')"
   ]
  },
  {
   "cell_type": "code",
   "execution_count": 23,
   "id": "07147144",
   "metadata": {},
   "outputs": [
    {
     "name": "stdout",
     "output_type": "stream",
     "text": [
      "Ham mail\n"
     ]
    }
   ],
   "source": [
    "input_your_mail = ['Government electronic Procurement your bid opening for the tender']\n",
    "\n",
    "# CONVERT TEXT TO FEATURE VECTORS\n",
    "input_data_features = feature_extraction.transform(input_your_mail)\n",
    "\n",
    "# MAKING PREDICTION\n",
    "prediction = model.predict(input_data_features)\n",
    "if(prediction[0] == 1):\n",
    "    print('Ham mail')\n",
    "else:\n",
    "    print('Spam mail')"
   ]
  },
  {
   "cell_type": "code",
   "execution_count": null,
   "id": "26d455f0",
   "metadata": {},
   "outputs": [],
   "source": []
  }
 ],
 "metadata": {
  "kernelspec": {
   "display_name": "Python 3 (ipykernel)",
   "language": "python",
   "name": "python3"
  },
  "language_info": {
   "codemirror_mode": {
    "name": "ipython",
    "version": 3
   },
   "file_extension": ".py",
   "mimetype": "text/x-python",
   "name": "python",
   "nbconvert_exporter": "python",
   "pygments_lexer": "ipython3",
   "version": "3.9.13"
  }
 },
 "nbformat": 4,
 "nbformat_minor": 5
}
